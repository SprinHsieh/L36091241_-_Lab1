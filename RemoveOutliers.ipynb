{
 "cells": [
  {
   "cell_type": "code",
   "execution_count": 1,
   "id": "f0b3d907",
   "metadata": {},
   "outputs": [
    {
     "name": "stdout",
     "output_type": "stream",
     "text": [
      "Enter the number of smallest and largest values to remove: 2\n",
      "Enter a value (q or Q to quit): 1\n",
      "Enter a value (q or Q to quit): 1\n",
      "Enter a value (q or Q to quit): 100\n",
      "Enter a value (q or Q to quit): 100\n",
      "Enter a value (q or Q to quit): 3\n",
      "Enter a value (q or Q to quit): 4\n",
      "Enter a value (q or Q to quit): 5\n",
      "Enter a value (q or Q to quit): q\n",
      "The original data: [1, 1, 100, 100, 3, 4, 5]\n",
      "The data with the outliers removed: [3, 4, 5]\n",
      "The outliers: [100, 1, 100, 1]\n"
     ]
    }
   ],
   "source": [
    "def remove_outliers():\n",
    "    origin_list = []\n",
    "    list_about_to_chage = []\n",
    "    outliers = []\n",
    "    num_to_rm = int(input('Enter the number of smallest and largest values to remove: '))\n",
    "    while True:\n",
    "        \n",
    "        user_input = input('Enter a value (q or Q to quit): ')\n",
    "        if user_input == 'q' or user_input == 'Q':\n",
    "            break        \n",
    "        origin_list.append(eval(user_input))\n",
    "        list_about_to_chage.append(eval(user_input))\n",
    "    \n",
    "    data_with_the_outliers_rm = list_about_to_chage\n",
    "    \n",
    "    while num_to_rm > 0:\n",
    "        outliers.append(max(data_with_the_outliers_rm))\n",
    "        outliers.append(min(data_with_the_outliers_rm))\n",
    "        data_with_the_outliers_rm.remove(max(data_with_the_outliers_rm))\n",
    "        data_with_the_outliers_rm.remove(min(data_with_the_outliers_rm))\n",
    "        num_to_rm -= 1\n",
    "    \n",
    "    print('The original data: ' + str(origin_list))\n",
    "    print('The data with the outliers removed: ' + str(data_with_the_outliers_rm))\n",
    "    print('The outliers: ' + str(outliers))\n",
    "            \n",
    "\n",
    "\n",
    "remove_outliers()"
   ]
  },
  {
   "cell_type": "code",
   "execution_count": 34,
   "id": "815212b9",
   "metadata": {},
   "outputs": [
    {
     "name": "stdout",
     "output_type": "stream",
     "text": [
      "[3, 4]\n"
     ]
    }
   ],
   "source": [
    "# list1 = [3,4]\n",
    "# list1111 = [3,4]\n",
    "# # print('tset' + str(test_list))\n",
    "\n",
    "# list2 = list1\n",
    "# list2.remove(3)\n",
    "# print(list1111)"
   ]
  },
  {
   "cell_type": "code",
   "execution_count": null,
   "id": "f8898c3d",
   "metadata": {},
   "outputs": [],
   "source": []
  }
 ],
 "metadata": {
  "kernelspec": {
   "display_name": "Python 3",
   "language": "python",
   "name": "python3"
  },
  "language_info": {
   "codemirror_mode": {
    "name": "ipython",
    "version": 3
   },
   "file_extension": ".py",
   "mimetype": "text/x-python",
   "name": "python",
   "nbconvert_exporter": "python",
   "pygments_lexer": "ipython3",
   "version": "3.8.10"
  }
 },
 "nbformat": 4,
 "nbformat_minor": 5
}
