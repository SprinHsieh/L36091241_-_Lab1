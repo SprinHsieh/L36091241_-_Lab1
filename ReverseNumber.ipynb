{
 "cells": [
  {
   "cell_type": "code",
   "execution_count": 4,
   "id": "dbd10754",
   "metadata": {},
   "outputs": [
    {
     "name": "stdout",
     "output_type": "stream",
     "text": [
      "Enter and integer:543\n",
      "345"
     ]
    }
   ],
   "source": [
    "def reverse(number):\n",
    "    while True:\n",
    "        num = number % 10\n",
    "        print(num, end = '')\n",
    "        \n",
    "        if number // 10 == 0:\n",
    "            break\n",
    "        number //= 10\n",
    "    \n",
    "\n",
    "num = int(input('Enter and integer:'))\n",
    "reverse(num)\n"
   ]
  },
  {
   "cell_type": "code",
   "execution_count": 9,
   "id": "85d3fdb1",
   "metadata": {},
   "outputs": [
    {
     "name": "stdout",
     "output_type": "stream",
     "text": [
      "Enter and integer:1234567890\n",
      "0987654321"
     ]
    }
   ],
   "source": [
    "num = int(input('Enter and integer:'))\n",
    "reverse(num)"
   ]
  }
 ],
 "metadata": {
  "kernelspec": {
   "display_name": "Python 3",
   "language": "python",
   "name": "python3"
  },
  "language_info": {
   "codemirror_mode": {
    "name": "ipython",
    "version": 3
   },
   "file_extension": ".py",
   "mimetype": "text/x-python",
   "name": "python",
   "nbconvert_exporter": "python",
   "pygments_lexer": "ipython3",
   "version": "3.8.10"
  }
 },
 "nbformat": 4,
 "nbformat_minor": 5
}
